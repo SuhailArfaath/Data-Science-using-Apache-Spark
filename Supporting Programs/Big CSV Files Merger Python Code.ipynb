{
 "cells": [
  {
   "cell_type": "code",
   "execution_count": null,
   "metadata": {},
   "outputs": [],
   "source": [
    "import pandas as pd\n",
    "\n",
    "CHUNK_SIZE = 100000\n",
    "csv_file_list = [\"7.csv\", \"8.csv\", \"9.csv\", \"10.csv\", \"11.csv\", \"12.csv\", \"13.csv\", \"14.csv\"]\n",
    "output_file = \"output.csv\"\n",
    "\n",
    "first_one = True\n",
    "for csv_file_name in csv_file_list:\n",
    "\n",
    "    if not first_one: # if it is not the first csv file then skip the header row (row 0) of that file\n",
    "        skip_row = [0]\n",
    "    else:\n",
    "        skip_row = []\n",
    "\n",
    "    chunk_container = pd.read_csv(csv_file_name, chunksize=CHUNK_SIZE, skiprows = skip_row)\n",
    "    for chunk in chunk_container:\n",
    "        chunk.to_csv(output_file, mode=\"a\", index=False)\n",
    "    first_one = False"
   ]
  }
 ],
 "metadata": {
  "kernelspec": {
   "display_name": "Python 3.10.7 64-bit",
   "language": "python",
   "name": "python3"
  },
  "language_info": {
   "name": "python",
   "version": "3.10.7"
  },
  "orig_nbformat": 4,
  "vscode": {
   "interpreter": {
    "hash": "ca1aedbedd95dd093ecc0584d64cc9f190b223f6674c96381275c9f9213774cb"
   }
  }
 },
 "nbformat": 4,
 "nbformat_minor": 2
}
